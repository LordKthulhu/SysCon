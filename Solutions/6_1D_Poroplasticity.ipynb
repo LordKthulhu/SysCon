{
 "cells": [
  {
   "cell_type": "markdown",
   "id": "84bc26cd-008b-49a0-85b7-dbea401db29d",
   "metadata": {},
   "source": [
    "# Coupled plasticity example: Thermal softening of a poroplastic solid"
   ]
  },
  {
   "cell_type": "code",
   "execution_count": null,
   "id": "6a0cd24a-ac27-48d0-bf87-d532e876f0b2",
   "metadata": {},
   "outputs": [],
   "source": []
  }
 ],
 "metadata": {
  "kernelspec": {
   "display_name": "Python 3 (ipykernel)",
   "language": "python",
   "name": "python3"
  },
  "language_info": {
   "codemirror_mode": {
    "name": "ipython",
    "version": 3
   },
   "file_extension": ".py",
   "mimetype": "text/x-python",
   "name": "python",
   "nbconvert_exporter": "python",
   "pygments_lexer": "ipython3",
   "version": "3.11.5"
  }
 },
 "nbformat": 4,
 "nbformat_minor": 5
}
