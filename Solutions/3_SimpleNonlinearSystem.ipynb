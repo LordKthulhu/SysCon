{
 "cells": [
  {
   "cell_type": "markdown",
   "id": "30af500b-790b-471c-8427-7dcd6cb7f6a7",
   "metadata": {},
   "source": [
    "# Thermal expansion of an undrained porous solid\n",
    "\n",
    "*[Written by: Maxime Pierre, 2024]* \\\n",
    "\\\n",
    "Let us come back to our first example and complicate it a bit: we will consider an undrained, unconfined thermoporoelastic solid subject to a heat source. \\\n",
    "Density of water will be taken as a linear function of temperature and pressure (from IAWPS data): \n",
    "$$\n",
    "\\rho_f = 1000 + 0.487p - 0.0284(T-T_0).\n",
    "$$\n",
    "The usual thermoporoelastic equations read:\n",
    "$$\n",
    "\\begin{array}{}\n",
    "\\sigma = K(\\varepsilon)\\varepsilon - bp - \\alpha_s KT, \\\\\n",
    "\\phi-\\phi_0 = b\\varepsilon - \\frac{p}{N} - 3\\alpha_s(b-\\phi)T, \\\\\n",
    "S - S_0 = \\alpha_s K \\varepsilon - 3\\alpha_s(b-\\phi)p + C_s\\frac{T}{T_0}.\n",
    "\\end{array}\n",
    "$$\n",
    "\n"
   ]
  },
  {
   "cell_type": "code",
   "execution_count": 16,
   "id": "361b21ef-aa0d-4f24-a3dc-6ff9d9201f66",
   "metadata": {},
   "outputs": [
    {
     "name": "stdout",
     "output_type": "stream",
     "text": [
      "Iteration 1: X_1 = [-4.13888889e-04  1.66666667e+06], residual norm = 0.7090082733193719\n",
      "Iteration 2: X_2 = [-4.13541664e-04  1.66666549e+06], residual norm = 1.496635377407074e-06\n",
      "Iteration 3: X_3 = [-4.13541664e-04  1.66666549e+06], residual norm = 1.1641532182693481e-10\n",
      "Iteration 4: X_4 = [-4.13541664e-04  1.66666549e+06], residual norm = 0.0\n",
      "Converged in 4 iterations.\n"
     ]
    }
   ],
   "source": [
    "import numpy as np\n",
    "import matplotlib.pyplot as plt\n",
    "\n",
    "# Material constants\n",
    "K = 1e9\n",
    "b = 0.6\n",
    "K_f = 2e9\n",
    "N = 1e11\n",
    "phi_0 = 0.3\n",
    "alpha_s = 1e-5\n",
    "alpha_w = 2.1e-4\n",
    "\n",
    "# Loading\n",
    "sigma_ = -1e6\n",
    "\n",
    "def rho_f(p,T):\n",
    "    1000 + 0.487*p - 0.0284*T\n",
    "\n",
    "def F(X):\n",
    "    eps, p, T = X\n",
    "    return np.array([K * eps - b*p + alpha_s*T, \n",
    "                     (1+p/K_f-2.84e-5*dT)*(phi_0+b*eps-p/N) -phi_0 + alpha_s*(b-phi_0)*dT])\n",
    "\n",
    "def J(X):\n",
    "    eps, p = X\n",
    "\n",
    "    dsig_deps = 3*K_0*eps**2\n",
    "    dsig_dp = -b\n",
    "    dmf_deps = b * (1+p/K_f)\n",
    "    dmf_dp = -1/N * (1+p/K_f) + 1/K_f * (phi_0+b*eps-p/N)\n",
    "    return np.array([ [dsig_deps, dsig_dp], [dmf_deps, dmf_dp] ])\n",
    "    \n",
    "def newton_method(residu, jacobian, initial_guess, tolerance, max_iteration=50):\n",
    "    X_n = initial_guess\n",
    "    X = [initial_guess]\n",
    "    iteration = 0\n",
    "    \n",
    "    while np.linalg.norm(residu(X_n)) > tolerance and iteration < max_iteration:\n",
    "        \n",
    "        X_n -= np.dot(np.linalg.inv(jacobian(X_n)), residu(X_n))\n",
    "        \n",
    "        X.append(X_n.copy())\n",
    "        iteration += 1\n",
    "        print(\"Iteration {}: X_{} = {}, residual norm = {}\".format(iteration, iteration, X_n, np.linalg.norm(residu(X_n))))\n",
    "        \n",
    "    if np.linalg.norm(residu(X_n)) > tolerance: # Not converged\n",
    "        print(\"Did not converge after {} iterations.\".format(iteration))\n",
    "    else: # Converged\n",
    "        print(\"Converged in {} iterations.\".format(iteration))\n",
    "        \n",
    "    return np.array(X)\n",
    "\n",
    "X_0 = [0,0]\n",
    "eps = 1e-12\n",
    "\n",
    "result = newton_method(lambda X : F(X, [sigma_, 0]), J, X_0, eps)"
   ]
  },
  {
   "cell_type": "code",
   "execution_count": null,
   "id": "b4517159-b79f-429f-9e0e-a22f96cead4a",
   "metadata": {},
   "outputs": [],
   "source": []
  }
 ],
 "metadata": {
  "kernelspec": {
   "display_name": "Python 3 (ipykernel)",
   "language": "python",
   "name": "python3"
  },
  "language_info": {
   "codemirror_mode": {
    "name": "ipython",
    "version": 3
   },
   "file_extension": ".py",
   "mimetype": "text/x-python",
   "name": "python",
   "nbconvert_exporter": "python",
   "pygments_lexer": "ipython3",
   "version": "3.11.5"
  }
 },
 "nbformat": 4,
 "nbformat_minor": 5
}
