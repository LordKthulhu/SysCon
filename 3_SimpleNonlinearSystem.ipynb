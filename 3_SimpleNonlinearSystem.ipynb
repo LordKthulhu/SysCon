{
 "cells": [
  {
   "cell_type": "markdown",
   "id": "30af500b-790b-471c-8427-7dcd6cb7f6a7",
   "metadata": {},
   "source": [
    "$$\n",
    "\\begin{array}{}\n",
    "\\sigma = K\\varepsilon - bp \\\\\n",
    "\\phi-\\phi_0 = b\\varepsilon - \\frac{p}{N}\n",
    "\\end{array}\n",
    "$$\n",
    "\n",
    "$$\n",
    "\\begin{array}{}\n",
    "\\sigma = K\\varepsilon - bp \\\\\n",
    "m_f-m_{f,0} = \\rho_f\\phi - \\rho_{f,0}\\phi_0\n",
    "\\end{array}\n",
    "$$\n",
    "$$\n",
    "\\begin{array}{}\n",
    "\\sigma = K\\varepsilon - bp \\\\\n",
    "m_f-m_{f,0} = \\rho_f\\left(\\phi_0+b\\varepsilon - \\frac{p}{N}\\right) - \\rho_{f,0}\\phi_0\n",
    "\\end{array}\n",
    "$$\n"
   ]
  },
  {
   "cell_type": "code",
   "execution_count": null,
   "id": "361b21ef-aa0d-4f24-a3dc-6ff9d9201f66",
   "metadata": {},
   "outputs": [],
   "source": []
  }
 ],
 "metadata": {
  "kernelspec": {
   "display_name": "Python 3 (ipykernel)",
   "language": "python",
   "name": "python3"
  },
  "language_info": {
   "codemirror_mode": {
    "name": "ipython",
    "version": 3
   },
   "file_extension": ".py",
   "mimetype": "text/x-python",
   "name": "python",
   "nbconvert_exporter": "python",
   "pygments_lexer": "ipython3",
   "version": "3.11.6"
  }
 },
 "nbformat": 4,
 "nbformat_minor": 5
}
