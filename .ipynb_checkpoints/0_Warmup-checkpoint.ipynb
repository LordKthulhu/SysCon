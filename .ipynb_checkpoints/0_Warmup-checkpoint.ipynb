{
 "cells": [
  {
   "cell_type": "markdown",
   "id": "4f8548ff-2f5c-4bf4-8863-bda880658da4",
   "metadata": {},
   "source": [
    "# A short introduction on solving equation systems numerically for poromechanics\n",
    "\n",
    "*[Written by: Maxime Pierre, 2023]* \\\n",
    "\\\n",
    "This series of notebooks aims at giving theoretical background on basic methods for solving linear and especially nonlinear systems of equations, as well as examples of their implementation in `python` with examples in poromechanical constitutive modelling. \\\n",
    "When implementing constitutive models, we are often faced with systems of equations that need to be solved, as many of the problems we are dealing with will be **inverse problems**. An inverse problem amounts to determining the causes to an observed outcome. \\\n",
    "Given a behaviour $f:x \\rightarrow f(x)$ and an observed outcome $y$, we deal with the following problem:\n",
    "$$\n",
    "\\text{Find} \\ x \\ \\lvert \\ f(x)=y.\n",
    "$$\n",
    "Let us take a very simple first example: consider a 1D bar element in linear elasticity. Its behaviour, linking the stress $\\sigma$ with the deformation $\\varepsilon$ is:\n",
    "$$\n",
    "\\sigma = E(\\varepsilon-\\varepsilon_0) = f(\\varepsilon),\n",
    "$$\n",
    "with $E$ the Young modulus of the material. Then, if we want to calculate the deformation corresponding to a given stress state $\\tilde{\\sigma}$, we must solve the inverse problem:\n",
    "$$\n",
    "\\text{Find} \\ \\varepsilon \\ \\lvert \\ E(\\varepsilon-\\varepsilon_0) = \\tilde{\\sigma}.\n",
    "$$\n",
    "Of course, this is a trivial problem since the relationship is linear, and is then easily inversed:\n",
    "$$\n",
    "\\varepsilon = \\varepsilon_0 + \\frac{\\tilde{\\sigma}}{E}.\n",
    "$$\n",
    "However, the task may not always be this simple. What if we considered nonlinear elasticity? In the case of simple laws such as power laws, we could still manage it easily, but what about more complex functions, for which the inverse is unknown? We need other numerical tools that we will introduce starting from the next notebook. \\\n",
    "More often than not, we will also be dealing with multiple equations to be solved simultaneously: poromechanical problems are coupled. In order to illustrate this, let us take a simple isotropic porous solid with the usual state equations:\n",
    "$$\n",
    "\\left\\{\n",
    "\\begin{array}{}\n",
    "\\sigma = K\\varepsilon -bp, \\\\\n",
    "\\phi - \\phi_0 = b\\varepsilon + \\frac{p}{N}.\n",
    "\\end{array}\n",
    "\\right.\n",
    "$$\n",
    "If we consider a force-controlled, undrained isotropic compression with an incompressible fluid, we have for example:\n",
    "$$\n",
    "\\left\\{\n",
    "\\begin{array}{}\n",
    "\\sigma =-\\tilde{\\sigma}, \\\\\n",
    "\\phi = \\phi_0.\n",
    "\\end{array}\n",
    "\\right.\n",
    "$$\n",
    "Finding the corresponding deformation and pressure requires solving the system:\n",
    "$$\n",
    "\\left\\{\n",
    "\\begin{array}{}\n",
    "K\\varepsilon -bp =-\\tilde{\\sigma}, \\\\\n",
    "b\\varepsilon + \\frac{p}{N} = 0.\n",
    "\\end{array}\n",
    "\\right.\n",
    "$$\n",
    "We have two equations and two unknowns, which means we will find a unique solution unless our system is linked. Solving it seems easy enough: we can just express one unknown as a function of the other from the second equation, then inject it in the first, and voilà! That is indeed a decent way to approach that problem, and in fact close to the *Gauss-Seidel* algorithm which we will talk about in a minute. A useful representation of this problem consists in using matrices and vectors:\n",
    "$$\n",
    "\\begin{bmatrix}\n",
    "K & -b \\\\\n",
    "b & \\frac{1}{N}\n",
    "\\end{bmatrix}\n",
    "\\begin{bmatrix}\n",
    "\\varepsilon \\\\\n",
    "p\n",
    "\\end{bmatrix}=\n",
    "\\begin{bmatrix}\n",
    "-\\tilde{\\sigma} \\\\\n",
    "0\n",
    "\\end{bmatrix},\n",
    "$$\n",
    "which is a problem of the usual form:\n",
    "$$\n",
    "K\\cdot U = F\n",
    "$$\n",
    "of unknown $U$. We know an easy way of solving this problem: if we can calculate the inverse of $K$, we have:\n",
    "$$\n",
    "U = K^{-1}\\cdot F.\n",
    "$$\n",
    "Let us take a simple example: $\\tilde{\\sigma}=1$ MPa, $K=1$ GPa, $b = 0.5$ and $N = 1$ GPa."
   ]
  },
  {
   "cell_type": "code",
   "execution_count": 2,
   "id": "b5ee63b0-c3f7-429e-9c74-818716b81eb4",
   "metadata": {},
   "outputs": [],
   "source": [
    "import numpy as np\n",
    "# Solicitation\n",
    "sig_tilde = 1e6\n",
    "\n",
    "# Material parameters\n",
    "K = 1e9\n",
    "b = 0.5\n",
    "N = 1e9\n",
    "\n",
    "K = np.array([[K, -b],[b, 1/N]])\n",
    "F = np.array([-sig_tilde, 0])"
   ]
  },
  {
   "cell_type": "markdown",
   "id": "adcef75f-cb18-4a7f-8d1b-fc1be94aa138",
   "metadata": {},
   "source": [
    "Now that everything is defined, let us calculate our unknowns:"
   ]
  },
  {
   "cell_type": "code",
   "execution_count": 12,
   "id": "8d1a4ebb-3a63-46fe-8fab-a281ad78a034",
   "metadata": {},
   "outputs": [
    {
     "name": "stdout",
     "output_type": "stream",
     "text": [
      "The corresponding state is : epsilon = -0.0008, p = 400000.0 Pa.\n"
     ]
    }
   ],
   "source": [
    "# Calculating the inverse of K\n",
    "K_inv = np.linalg.inv(K)\n",
    "# Getting U\n",
    "U = np.dot(K_inv, F)\n",
    "print(\"The corresponding state is : epsilon = {:.4f}, p = {} Pa.\".format(*U))"
   ]
  },
  {
   "cell_type": "code",
   "execution_count": 13,
   "id": "ec1d5a85-2db5-4523-a289-a8fbb57b741c",
   "metadata": {},
   "outputs": [
    {
     "name": "stdout",
     "output_type": "stream",
     "text": [
      "Result of K*U: sigma = -1000000.0000000001 Pa, phi - phi0 = -4.8466166450707e-20.\n"
     ]
    }
   ],
   "source": [
    "# Checking that KU=F\n",
    "print(\"Result of K*U: sigma = {} Pa, phi - phi0 = {}.\".format(*np.dot(K,U)))"
   ]
  },
  {
   "cell_type": "markdown",
   "id": "3a3d2576-c437-4c65-8fc9-dc1f6383259e",
   "metadata": {},
   "source": [
    "## Bonus: a bit of matrix manipulation: Gaussian elimination algorithm\n",
    "\n",
    "As an exercise to familiarize ourself with basic matrix manipulations in `python`, we can try and implement a simple way of solving linear systems of equations, however large they are, without using a built-in matrix inversion function. \\\n"
   ]
  },
  {
   "cell_type": "code",
   "execution_count": null,
   "id": "310ada5f-8946-4a04-a127-e6efc343bb20",
   "metadata": {},
   "outputs": [],
   "source": []
  }
 ],
 "metadata": {
  "kernelspec": {
   "display_name": "Python 3 (ipykernel)",
   "language": "python",
   "name": "python3"
  },
  "language_info": {
   "codemirror_mode": {
    "name": "ipython",
    "version": 3
   },
   "file_extension": ".py",
   "mimetype": "text/x-python",
   "name": "python",
   "nbconvert_exporter": "python",
   "pygments_lexer": "ipython3",
   "version": "3.11.6"
  }
 },
 "nbformat": 4,
 "nbformat_minor": 5
}
