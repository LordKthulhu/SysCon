{
 "cells": [
  {
   "cell_type": "markdown",
   "id": "30af500b-790b-471c-8427-7dcd6cb7f6a7",
   "metadata": {},
   "source": [
    "# Solving a simple nonlinear poroelastic problem\n",
    "\n",
    "*[Written by: M. Pierre, 2024]* \\\n",
    "\\\n",
    "Let us come back to our first example and complicate it a little bit: we will now consider nonlinear elasticity $(K = K(\\varepsilon))$ and take into account the compressibility of water $(\\rho_f = \\rho_f(p))$. \\\n",
    "The states equations read:\n",
    "$$\n",
    "\\begin{array}{}\n",
    "\\sigma = K(\\varepsilon)\\varepsilon - bp, \\\\\n",
    "\\phi-\\phi_0 = b\\varepsilon - \\frac{p}{N}.\n",
    "\\end{array}\n",
    "$$\n",
    "Suppose we impose a stress $\\tilde{\\sigma}$ from an initially unstressed state and keep undrained conditions ($m_f = m_{f,0}$):\n",
    "$$\n",
    "\\begin{array}{}\n",
    "\\tilde{\\sigma} = K(\\varepsilon)\\varepsilon - bp, \\\\\n",
    "0 = m_f-m_{f,0} = \\rho_f(p)\\phi - \\rho_f(0)\\phi_0.\n",
    "\\end{array}\n",
    "$$\n",
    "We can take a power law for $K$ (let us say for instance $K(\\varepsilon) = K_0\\sqrt{\\varepsilon}$), and take into account the compressibility of water through $\\rho_f = \\rho_{f,0}(1+p/K_f)$\n",
    "$$\n",
    "\\begin{array}{}\n",
    "\\tilde{\\sigma} = K\\varepsilon^{3/2} - bp, \\\\\n",
    "0 = \\left(1+\\frac{p}{K_f}\\right)\\left(\\phi_0+b\\varepsilon - \\frac{p}{N}\\right) - \\phi_0.\n",
    "\\end{array}\n",
    "$$\n"
   ]
  },
  {
   "cell_type": "code",
   "execution_count": null,
   "id": "361b21ef-aa0d-4f24-a3dc-6ff9d9201f66",
   "metadata": {},
   "outputs": [],
   "source": []
  }
 ],
 "metadata": {
  "kernelspec": {
   "display_name": "Python 3 (ipykernel)",
   "language": "python",
   "name": "python3"
  },
  "language_info": {
   "codemirror_mode": {
    "name": "ipython",
    "version": 3
   },
   "file_extension": ".py",
   "mimetype": "text/x-python",
   "name": "python",
   "nbconvert_exporter": "python",
   "pygments_lexer": "ipython3",
   "version": "3.11.5"
  }
 },
 "nbformat": 4,
 "nbformat_minor": 5
}
